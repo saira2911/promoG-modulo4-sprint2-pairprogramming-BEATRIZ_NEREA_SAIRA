{
 "cells": [
  {
   "cell_type": "markdown",
   "metadata": {},
   "source": [
    "\n",
    "# Presentación de los Dashboards de Salud Mental en Power BI\n",
    "\n",
    "## Dashboard 1: Análisis General\n",
    "\n",
    "En nuestro primer dashboard, exploramos el análisis general de nuestra encuesta de Salud Mental:\n",
    "\n",
    "- Total de Respuestas: Se ha recopilado un total de 292 mil respuestas en la encuesta.\n",
    "- Países: 35 paises donde se ha llevado a cabo la encuesta.\n",
    "- Participantes en Tratamiento: 147 mil participantes han recibido o están recibiendo tratamiento para problemas de salud mental durante la realización de la encuesta.\n",
    "- Gráfico de Países con Mayor Número de Encuestados(Distribución Geográfica): Los países con el mayor número de personas entrevistadas incluyen EE. UU., Reino Unido, Canadá, Australia, Países Bajos, Irlanda, Alemania y Suecia.\n",
    "- Distribución por Género: En nuestra muestra, el 82% de las personas entrevistadas son hombres, mientras que el 18% son mujeres.\n",
    "- Período de Encuestas: El 90% de estas encuestas se realizaron en agosto de 2014(276 mil), reflejando un intenso período de recolección de datos en ese mes; seguidas por 14,680 respuestas en 2015 y 390 respuestas en 2016.\n",
    "- Gráfico de Distribución por Ocupación: La ocupación con mayor número de encuestados es \"housewife\" (amas de casa), seguida por \"student\" (estudiantes) y \"corporate\" (empleados corporativos).\n",
    "- Mapa: Podemos ver al mismo tiempo desde que paises responden los participantes, que cantidad de respuestas viene de cada pais y la diferencia de genero.\n",
    "\n",
    "Estos datos nos ofrecen una visión inicial de nuestra muestra y nos permiten identificar tendencias demográficas y geográficas significativas en nuestra encuesta de Salud Mental.\n",
    "\n",
    "## Dashboard 2: Análisis de Tratamiento y Antecedentes Familiares\n",
    "¡Pasemos al segundo dashboard donde profundizamos en el tratamiento y los antecedentes familiares relacionados con la salud mental!\n",
    "\n",
    "- Personas en Tratamiento: El 50.46% de los encuestados reciben tratamiento, mientras que el 49.54% no lo reciben.\n",
    "- Antecedentes Familiares de Trastornos Mentales: Descubrimos que el 60,51% de los encuestados No tiene antecedentes familiares de trastornos mentales frente al 39,49% que Si.\n",
    "- Gráfico de Exposición de Salud Mental: Por noma general los participantes no quieren exponer su salud mental mas allá de esta encuesta anonima.\n",
    "- Gráfico de Opciones de cuidado: En general la mayoria no conoce las opciones de cuidado que tienen disponibles, en el caso de las personas en tratamiento la tendencia cambia y la mayoria si las conocen.\n",
    "\n",
    "Estos insights nos ayudan a entender mejor la relación entre el tratamiento, los antecedentes familiares, etc en nuestra muestra.\n",
    "\n",
    "## Dashboard 3: Análisis por Ocupación\n",
    "En nuestro tercer dashboard, exploramos las relaciones entre la ocupación y otras variables:\n",
    "\n",
    "- Ocupación (Self-employed): Más del 89.84% de los encuestados no son trabajadores independientes/autónomos.\n",
    "- Interés en el Trabajo: El 36.21% de los encuestados no muestra interés en su trabajo.\n",
    "- Gráfico de Dificultad para afrontar el Estres por Ocupación: Las amas de casa (housewifes) son las que mejor manejan el estres y la presion, seguidas de los empleados corporativos. Los estudiantes son los que mas dificultades tienen para afrontar estas situaciones.\n",
    "- Gráfico interactivo de Ocupación relacionada con: \n",
    "    - Cambios en los Habitos del sueño: las amas de casa y los estudiantes son los que mas variaciones tienen en sus horas de sueño\n",
    "    - Dificultades sociales: solo en empleados de empresas (business) el SI supera a las demas opciones\n",
    "    - Aumento del estres: destacan los empleados corporativos y los estudiantes como las ocupaciones con mas estres\n",
    "\n",
    "Estos hallazgos nos permiten identificar patrones entre la ocupación y el bienestar mental de los encuestados.\n",
    "\n",
    "## Conclusiones\n",
    "1. Demografía y Distribución Geográfica: La mayoría de las respuestas se recopilaron en agosto de 2014, lo que sugiere un periodo de recolección intensivo en ese mes específico.\n",
    "Estados Unidos es el país con la mayor representación en nuestra muestra, seguido por otros países como Reino Unido, Canadá, Australia y varios países europeos.\n",
    "Existe una predominancia significativa de hombres en nuestra muestra, lo que podría indicar una tendencia demográfica en la participación en encuestas sobre salud mental.\n",
    "\n",
    "2. Tratamiento y Antecedentes Familiares: Más de la mitad de los encuestados han recibido tratamiento para problemas de salud mental, lo que destaca la importancia y la necesidad de intervenciones terapéuticas. Cerca del 40% de los encuestados tiene antecedentes familiares de trastornos mentales, lo que sugiere un componente hereditario en la salud mental.\n",
    "\n",
    "3. Ocupación y Estrés Percibido: La mayoría de los encuestados no son trabajadores independientes, lo que podría indicar una distribución típica de ocupaciones en nuestra muestra. Algunos grupos ocupacionales, como las amas de casa y los empleados corporativos, muestran niveles más altos de debilidad social y estrés percibido.\n",
    "\n",
    "Estas conclusiones nos proporcionan una comprensión significativa de los patrones y las tendencias dentro de nuestra muestra de encuesta de Salud Mental. Podemos utilizar esta información para orientar futuras investigaciones y acciones destinadas a mejorar la atención y el bienestar mental de la población."
   ]
  }
 ],
 "metadata": {
  "language_info": {
   "name": "python"
  }
 },
 "nbformat": 4,
 "nbformat_minor": 2
}
